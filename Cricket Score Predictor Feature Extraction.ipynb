{
 "cells": [
  {
   "cell_type": "code",
   "execution_count": 175,
   "id": "dd3c3fbe",
   "metadata": {},
   "outputs": [],
   "source": [
    "import pandas as pd\n",
    "import numpy as np\n",
    "import pickle \n",
    "import warnings\n",
    "warnings.filterwarnings('ignore')"
   ]
  },
  {
   "cell_type": "code",
   "execution_count": 176,
   "id": "b4e427cc",
   "metadata": {},
   "outputs": [],
   "source": [
    "df = pickle.load(open('dataset_level2.pkl','rb'))"
   ]
  },
  {
   "cell_type": "code",
   "execution_count": 177,
   "id": "4083fd9b",
   "metadata": {},
   "outputs": [
    {
     "data": {
      "text/plain": [
       "match_id               0\n",
       "batting_team           0\n",
       "bowling_team           0\n",
       "ball                   0\n",
       "runs                   0\n",
       "player_dismissed       0\n",
       "city                8548\n",
       "venue                  0\n",
       "dtype: int64"
      ]
     },
     "execution_count": 177,
     "metadata": {},
     "output_type": "execute_result"
    }
   ],
   "source": [
    "df.isnull().sum()"
   ]
  },
  {
   "cell_type": "code",
   "execution_count": 178,
   "id": "a386afcd",
   "metadata": {
    "scrolled": true
   },
   "outputs": [
    {
     "data": {
      "text/plain": [
       "venue\n",
       "Dubai International Cricket Stadium        2969\n",
       "Pallekele International Cricket Stadium    2066\n",
       "Melbourne Cricket Ground                   1453\n",
       "Sydney Cricket Ground                       749\n",
       "Adelaide Oval                               498\n",
       "Harare Sports Club                          372\n",
       "Sharjah Cricket Stadium                     249\n",
       "Sylhet International Cricket Stadium        128\n",
       "Carrara Oval                                 64\n",
       "Name: count, dtype: int64"
      ]
     },
     "execution_count": 178,
     "metadata": {},
     "output_type": "execute_result"
    }
   ],
   "source": [
    "df[df['city'].isnull()]['venue'].value_counts()"
   ]
  },
  {
   "cell_type": "code",
   "execution_count": 179,
   "id": "4f5f0136",
   "metadata": {},
   "outputs": [],
   "source": [
    "cities = np.where(df['city'].isnull(),df['venue'].str.split().apply(lambda x:x[0]),df['city'])"
   ]
  },
  {
   "cell_type": "code",
   "execution_count": 180,
   "id": "4c660b28",
   "metadata": {},
   "outputs": [],
   "source": [
    "df['city'] = cities"
   ]
  },
  {
   "cell_type": "code",
   "execution_count": 181,
   "id": "375046f5",
   "metadata": {},
   "outputs": [
    {
     "data": {
      "text/plain": [
       "match_id            0\n",
       "batting_team        0\n",
       "bowling_team        0\n",
       "ball                0\n",
       "runs                0\n",
       "player_dismissed    0\n",
       "city                0\n",
       "venue               0\n",
       "dtype: int64"
      ]
     },
     "execution_count": 181,
     "metadata": {},
     "output_type": "execute_result"
    }
   ],
   "source": [
    "df.isnull().sum()"
   ]
  },
  {
   "cell_type": "code",
   "execution_count": 182,
   "id": "f93d2679",
   "metadata": {},
   "outputs": [],
   "source": [
    "df.drop(labels=['venue'],inplace=True,axis=1)"
   ]
  },
  {
   "cell_type": "code",
   "execution_count": 183,
   "id": "cb7ea3b4",
   "metadata": {},
   "outputs": [
    {
     "data": {
      "text/plain": [
       "city\n",
       "Colombo          4086\n",
       "Mirpur           3420\n",
       "Johannesburg     3331\n",
       "Dubai            2969\n",
       "Auckland         2532\n",
       "                 ... \n",
       "Nairobi           123\n",
       "Potchefstroom     122\n",
       "Dharamsala        122\n",
       "Ahmedabad         121\n",
       "Carrara            64\n",
       "Name: count, Length: 86, dtype: int64"
      ]
     },
     "execution_count": 183,
     "metadata": {},
     "output_type": "execute_result"
    }
   ],
   "source": [
    "df['city'].value_counts()"
   ]
  },
  {
   "cell_type": "code",
   "execution_count": 184,
   "id": "51d2a407",
   "metadata": {},
   "outputs": [],
   "source": [
    "cities = (df['city'].value_counts()[df['city'].value_counts() > 600]).index.tolist()"
   ]
  },
  {
   "cell_type": "code",
   "execution_count": 185,
   "id": "66017ca3",
   "metadata": {},
   "outputs": [
    {
     "data": {
      "text/plain": [
       "35"
      ]
     },
     "execution_count": 185,
     "metadata": {},
     "output_type": "execute_result"
    }
   ],
   "source": [
    "len(cities)"
   ]
  },
  {
   "cell_type": "code",
   "execution_count": 186,
   "id": "fdf861d1",
   "metadata": {},
   "outputs": [],
   "source": [
    "df = df[df['city'].isin(cities)]"
   ]
  },
  {
   "cell_type": "code",
   "execution_count": 187,
   "id": "4222b9ff",
   "metadata": {},
   "outputs": [],
   "source": [
    "df['current_score'] = df.groupby('match_id')['runs'].cumsum()"
   ]
  },
  {
   "cell_type": "code",
   "execution_count": 188,
   "id": "c6164b8b",
   "metadata": {},
   "outputs": [],
   "source": [
    "df['ball'] = df['ball'].astype(str)\n",
    "df['over'] = df['ball'].str.split('.').apply(lambda x:x[0])"
   ]
  },
  {
   "cell_type": "code",
   "execution_count": 189,
   "id": "98cf5de7",
   "metadata": {},
   "outputs": [],
   "source": [
    "df['ball_no'] = df['ball'].str.split('.').apply(lambda x:x[1])"
   ]
  },
  {
   "cell_type": "code",
   "execution_count": 190,
   "id": "e92a16bf",
   "metadata": {},
   "outputs": [],
   "source": [
    "df['balls_bowled'] = (df['over'].astype('int')*6) + (df['ball_no'].astype('int'))"
   ]
  },
  {
   "cell_type": "code",
   "execution_count": 191,
   "id": "e8143677",
   "metadata": {
    "scrolled": true
   },
   "outputs": [],
   "source": [
    "df['balls_left'] = 120 - df['balls_bowled']\n",
    "df['balls_left'] = np.where(df['balls_left']<0,0,df['balls_left'])"
   ]
  },
  {
   "cell_type": "code",
   "execution_count": 192,
   "id": "9e6a0dd5",
   "metadata": {
    "scrolled": true
   },
   "outputs": [],
   "source": [
    "df['player_dismissed'] = np.where(df['player_dismissed']!='0',1,0)\n",
    "# df['player_dismissed'] = df['player_dismissed'].apply(lambda x:0 if x=='0' else 1)"
   ]
  },
  {
   "cell_type": "code",
   "execution_count": 193,
   "id": "f1dfb997",
   "metadata": {},
   "outputs": [],
   "source": [
    "df['player_dismissed'] = df['player_dismissed'].astype('int')\n",
    "df['player_dismissed'] = df.groupby('match_id')['player_dismissed'].cumsum()\n",
    "df['wickets_left'] = 10 - df['player_dismissed']"
   ]
  },
  {
   "cell_type": "code",
   "execution_count": 194,
   "id": "a9f2bad9",
   "metadata": {},
   "outputs": [],
   "source": [
    "df['crr'] = (df['current_score']*6)/df['balls_bowled']"
   ]
  },
  {
   "cell_type": "code",
   "execution_count": 195,
   "id": "68fa4f4f",
   "metadata": {},
   "outputs": [],
   "source": [
    "df['runs'].fillna(0, inplace=True)  # Replace NaNs with 0, or use df.dropna(subset=['runs']) to drop those rows"
   ]
  },
  {
   "cell_type": "code",
   "execution_count": 196,
   "id": "9c1f60f6",
   "metadata": {},
   "outputs": [],
   "source": [
    "df['match_id'] = df['match_id'].astype('int')\n",
    "df['runs'] = pd.to_numeric(df['runs'], errors='coerce')"
   ]
  },
  {
   "cell_type": "code",
   "execution_count": 197,
   "id": "d752c470",
   "metadata": {},
   "outputs": [],
   "source": [
    "groups = df.groupby('match_id')\n",
    "\n",
    "match_ids = df['match_id'].unique()\n",
    "last_five = []\n",
    "# for id in match_ids:\n",
    "#     last_five.extend(groups.get_group(id).rolling(window=30).sum()['runs'].values.tolist())\n",
    "\n",
    "for id in match_ids:\n",
    "    match_runs = groups.get_group(id)[['runs']]  # Select only the 'runs' column\n",
    "    rolling_sum = match_runs.rolling(window=30).sum()\n",
    "    last_five.extend(rolling_sum['runs'].values.tolist())\n"
   ]
  },
  {
   "cell_type": "code",
   "execution_count": 198,
   "id": "c3929789",
   "metadata": {},
   "outputs": [],
   "source": [
    "df[\"last_five\"] = last_five"
   ]
  },
  {
   "cell_type": "code",
   "execution_count": 199,
   "id": "bf817042",
   "metadata": {},
   "outputs": [],
   "source": [
    "final_df = df.groupby('match_id')['runs'].sum().reset_index(name='total_runs').merge(df,on='match_id')"
   ]
  },
  {
   "cell_type": "code",
   "execution_count": 200,
   "id": "486cdb6d",
   "metadata": {},
   "outputs": [],
   "source": [
    "final_df = final_df[['batting_team','bowling_team','city','current_score','balls_left','wickets_left','last_five','crr','total_runs']]"
   ]
  },
  {
   "cell_type": "code",
   "execution_count": 201,
   "id": "8da90b28",
   "metadata": {},
   "outputs": [
    {
     "data": {
      "text/plain": [
       "batting_team      0.00000\n",
       "bowling_team      0.00000\n",
       "city              0.00000\n",
       "current_score     0.00000\n",
       "balls_left        0.00000\n",
       "wickets_left      0.00000\n",
       "last_five        23.80943\n",
       "crr               0.00000\n",
       "total_runs        0.00000\n",
       "dtype: float64"
      ]
     },
     "execution_count": 201,
     "metadata": {},
     "output_type": "execute_result"
    }
   ],
   "source": [
    "final_df.isnull().sum()/len(df)*100"
   ]
  },
  {
   "cell_type": "code",
   "execution_count": 202,
   "id": "6e573bcc",
   "metadata": {},
   "outputs": [],
   "source": [
    "final_df.dropna(inplace=True)"
   ]
  },
  {
   "cell_type": "code",
   "execution_count": 203,
   "id": "573d61b4",
   "metadata": {},
   "outputs": [
    {
     "data": {
      "text/plain": [
       "batting_team     0\n",
       "bowling_team     0\n",
       "city             0\n",
       "current_score    0\n",
       "balls_left       0\n",
       "wickets_left     0\n",
       "last_five        0\n",
       "crr              0\n",
       "total_runs       0\n",
       "dtype: int64"
      ]
     },
     "execution_count": 203,
     "metadata": {},
     "output_type": "execute_result"
    }
   ],
   "source": [
    "final_df.isna().sum()"
   ]
  },
  {
   "cell_type": "code",
   "execution_count": 204,
   "id": "2fae05ba",
   "metadata": {},
   "outputs": [],
   "source": [
    "final_df = final_df.sample(final_df.shape[0])"
   ]
  },
  {
   "cell_type": "code",
   "execution_count": 205,
   "id": "f011f1ba",
   "metadata": {},
   "outputs": [
    {
     "data": {
      "text/html": [
       "<div>\n",
       "<style scoped>\n",
       "    .dataframe tbody tr th:only-of-type {\n",
       "        vertical-align: middle;\n",
       "    }\n",
       "\n",
       "    .dataframe tbody tr th {\n",
       "        vertical-align: top;\n",
       "    }\n",
       "\n",
       "    .dataframe thead th {\n",
       "        text-align: right;\n",
       "    }\n",
       "</style>\n",
       "<table border=\"1\" class=\"dataframe\">\n",
       "  <thead>\n",
       "    <tr style=\"text-align: right;\">\n",
       "      <th></th>\n",
       "      <th>batting_team</th>\n",
       "      <th>bowling_team</th>\n",
       "      <th>city</th>\n",
       "      <th>current_score</th>\n",
       "      <th>balls_left</th>\n",
       "      <th>wickets_left</th>\n",
       "      <th>last_five</th>\n",
       "      <th>crr</th>\n",
       "      <th>total_runs</th>\n",
       "    </tr>\n",
       "  </thead>\n",
       "  <tbody>\n",
       "    <tr>\n",
       "      <th>29737</th>\n",
       "      <td>Australia</td>\n",
       "      <td>India</td>\n",
       "      <td>Sydney</td>\n",
       "      <td>138</td>\n",
       "      <td>23</td>\n",
       "      <td>7</td>\n",
       "      <td>53.0</td>\n",
       "      <td>8.536082</td>\n",
       "      <td>171</td>\n",
       "    </tr>\n",
       "    <tr>\n",
       "      <th>47185</th>\n",
       "      <td>Afghanistan</td>\n",
       "      <td>Sri Lanka</td>\n",
       "      <td>Kolkata</td>\n",
       "      <td>60</td>\n",
       "      <td>47</td>\n",
       "      <td>6</td>\n",
       "      <td>17.0</td>\n",
       "      <td>4.931507</td>\n",
       "      <td>153</td>\n",
       "    </tr>\n",
       "  </tbody>\n",
       "</table>\n",
       "</div>"
      ],
      "text/plain": [
       "      batting_team bowling_team     city  current_score  balls_left  \\\n",
       "29737    Australia        India   Sydney            138          23   \n",
       "47185  Afghanistan    Sri Lanka  Kolkata             60          47   \n",
       "\n",
       "       wickets_left  last_five       crr  total_runs  \n",
       "29737             7       53.0  8.536082         171  \n",
       "47185             6       17.0  4.931507         153  "
      ]
     },
     "execution_count": 205,
     "metadata": {},
     "output_type": "execute_result"
    }
   ],
   "source": [
    "final_df.sample(2)"
   ]
  },
  {
   "cell_type": "code",
   "execution_count": 206,
   "id": "da1af2da",
   "metadata": {},
   "outputs": [],
   "source": [
    "from sklearn.model_selection import train_test_split"
   ]
  },
  {
   "cell_type": "code",
   "execution_count": 207,
   "id": "63d4b5ca",
   "metadata": {},
   "outputs": [],
   "source": [
    "x = final_df.drop(columns=['total_runs'],axis=1)\n",
    "y = final_df[['total_runs']]"
   ]
  },
  {
   "cell_type": "code",
   "execution_count": 208,
   "id": "9d73f5f9",
   "metadata": {},
   "outputs": [],
   "source": [
    "cat = []\n",
    "con = []\n",
    "for i in x.columns:\n",
    "    if x[i].dtype=='object':\n",
    "        cat.append(i)\n",
    "    else:\n",
    "        con.append(i)"
   ]
  },
  {
   "cell_type": "code",
   "execution_count": 209,
   "id": "6f60defb",
   "metadata": {},
   "outputs": [],
   "source": [
    "Xcat = x[cat]\n",
    "Xcon = x[con]"
   ]
  },
  {
   "cell_type": "code",
   "execution_count": 212,
   "id": "dec53e90",
   "metadata": {},
   "outputs": [
    {
     "data": {
      "text/html": [
       "<div>\n",
       "<style scoped>\n",
       "    .dataframe tbody tr th:only-of-type {\n",
       "        vertical-align: middle;\n",
       "    }\n",
       "\n",
       "    .dataframe tbody tr th {\n",
       "        vertical-align: top;\n",
       "    }\n",
       "\n",
       "    .dataframe thead th {\n",
       "        text-align: right;\n",
       "    }\n",
       "</style>\n",
       "<table border=\"1\" class=\"dataframe\">\n",
       "  <thead>\n",
       "    <tr style=\"text-align: right;\">\n",
       "      <th></th>\n",
       "      <th>batting_team</th>\n",
       "      <th>bowling_team</th>\n",
       "      <th>city</th>\n",
       "    </tr>\n",
       "  </thead>\n",
       "  <tbody>\n",
       "    <tr>\n",
       "      <th>37759</th>\n",
       "      <td>3</td>\n",
       "      <td>9</td>\n",
       "      <td>4</td>\n",
       "    </tr>\n",
       "    <tr>\n",
       "      <th>43416</th>\n",
       "      <td>3</td>\n",
       "      <td>7</td>\n",
       "      <td>16</td>\n",
       "    </tr>\n",
       "    <tr>\n",
       "      <th>19479</th>\n",
       "      <td>1</td>\n",
       "      <td>7</td>\n",
       "      <td>22</td>\n",
       "    </tr>\n",
       "    <tr>\n",
       "      <th>46012</th>\n",
       "      <td>6</td>\n",
       "      <td>5</td>\n",
       "      <td>15</td>\n",
       "    </tr>\n",
       "    <tr>\n",
       "      <th>28964</th>\n",
       "      <td>9</td>\n",
       "      <td>6</td>\n",
       "      <td>31</td>\n",
       "    </tr>\n",
       "    <tr>\n",
       "      <th>...</th>\n",
       "      <td>...</td>\n",
       "      <td>...</td>\n",
       "      <td>...</td>\n",
       "    </tr>\n",
       "    <tr>\n",
       "      <th>29454</th>\n",
       "      <td>8</td>\n",
       "      <td>1</td>\n",
       "      <td>28</td>\n",
       "    </tr>\n",
       "    <tr>\n",
       "      <th>29869</th>\n",
       "      <td>1</td>\n",
       "      <td>4</td>\n",
       "      <td>22</td>\n",
       "    </tr>\n",
       "    <tr>\n",
       "      <th>21178</th>\n",
       "      <td>3</td>\n",
       "      <td>4</td>\n",
       "      <td>20</td>\n",
       "    </tr>\n",
       "    <tr>\n",
       "      <th>47708</th>\n",
       "      <td>8</td>\n",
       "      <td>9</td>\n",
       "      <td>3</td>\n",
       "    </tr>\n",
       "    <tr>\n",
       "      <th>19822</th>\n",
       "      <td>1</td>\n",
       "      <td>9</td>\n",
       "      <td>20</td>\n",
       "    </tr>\n",
       "  </tbody>\n",
       "</table>\n",
       "<p>38477 rows × 3 columns</p>\n",
       "</div>"
      ],
      "text/plain": [
       "       batting_team  bowling_team  city\n",
       "37759             3             9     4\n",
       "43416             3             7    16\n",
       "19479             1             7    22\n",
       "46012             6             5    15\n",
       "28964             9             6    31\n",
       "...             ...           ...   ...\n",
       "29454             8             1    28\n",
       "29869             1             4    22\n",
       "21178             3             4    20\n",
       "47708             8             9     3\n",
       "19822             1             9    20\n",
       "\n",
       "[38477 rows x 3 columns]"
      ]
     },
     "execution_count": 212,
     "metadata": {},
     "output_type": "execute_result"
    }
   ],
   "source": [
    "Xcat"
   ]
  },
  {
   "cell_type": "code",
   "execution_count": 213,
   "id": "e8b5b003",
   "metadata": {},
   "outputs": [
    {
     "data": {
      "text/plain": [
       "batting_team    0\n",
       "bowling_team    0\n",
       "city            0\n",
       "dtype: int64"
      ]
     },
     "execution_count": 213,
     "metadata": {},
     "output_type": "execute_result"
    }
   ],
   "source": [
    "Xcat.isnull().sum()"
   ]
  },
  {
   "cell_type": "code",
   "execution_count": 211,
   "id": "392b7b0a",
   "metadata": {},
   "outputs": [],
   "source": [
    "# Xcat_en = pd.get_dummies(Xcat,columns=['batting_team','bowling_team', 'city'],drop_first=True)\n",
    "from sklearn.preprocessing import LabelEncoder\n",
    "le = LabelEncoder()\n",
    "for i in Xcat.columns:\n",
    "    Xcat[i] = le.fit_transform(Xcat[i].values)"
   ]
  },
  {
   "cell_type": "code",
   "execution_count": 214,
   "id": "7a37ee83",
   "metadata": {},
   "outputs": [],
   "source": [
    "from sklearn.preprocessing import StandardScaler"
   ]
  },
  {
   "cell_type": "code",
   "execution_count": 215,
   "id": "e3cc5bd1",
   "metadata": {},
   "outputs": [],
   "source": [
    "ss = StandardScaler()\n",
    "Xcon = pd.DataFrame(ss.fit_transform(Xcon), columns=Xcon.columns)"
   ]
  },
  {
   "cell_type": "code",
   "execution_count": 218,
   "id": "7a4a9ab4",
   "metadata": {},
   "outputs": [],
   "source": [
    "Xcat.reset_index(drop=True, inplace=True)\n",
    "Xcon.reset_index(drop=True, inplace=True)"
   ]
  },
  {
   "cell_type": "code",
   "execution_count": 219,
   "id": "88dbfe01",
   "metadata": {},
   "outputs": [],
   "source": [
    "X = Xcon.join(Xcat)"
   ]
  },
  {
   "cell_type": "code",
   "execution_count": 220,
   "id": "74f680c2",
   "metadata": {
    "scrolled": true
   },
   "outputs": [
    {
     "data": {
      "text/plain": [
       "current_score    0\n",
       "balls_left       0\n",
       "wickets_left     0\n",
       "last_five        0\n",
       "crr              0\n",
       "batting_team     0\n",
       "bowling_team     0\n",
       "city             0\n",
       "dtype: int64"
      ]
     },
     "execution_count": 220,
     "metadata": {},
     "output_type": "execute_result"
    }
   ],
   "source": [
    "X.isna().sum()"
   ]
  },
  {
   "cell_type": "code",
   "execution_count": 221,
   "id": "33a9c469",
   "metadata": {},
   "outputs": [
    {
     "data": {
      "text/html": [
       "<div>\n",
       "<style scoped>\n",
       "    .dataframe tbody tr th:only-of-type {\n",
       "        vertical-align: middle;\n",
       "    }\n",
       "\n",
       "    .dataframe tbody tr th {\n",
       "        vertical-align: top;\n",
       "    }\n",
       "\n",
       "    .dataframe thead th {\n",
       "        text-align: right;\n",
       "    }\n",
       "</style>\n",
       "<table border=\"1\" class=\"dataframe\">\n",
       "  <thead>\n",
       "    <tr style=\"text-align: right;\">\n",
       "      <th></th>\n",
       "      <th>current_score</th>\n",
       "      <th>balls_left</th>\n",
       "      <th>wickets_left</th>\n",
       "      <th>last_five</th>\n",
       "      <th>crr</th>\n",
       "      <th>batting_team</th>\n",
       "      <th>bowling_team</th>\n",
       "      <th>city</th>\n",
       "    </tr>\n",
       "  </thead>\n",
       "  <tbody>\n",
       "    <tr>\n",
       "      <th>0</th>\n",
       "      <td>0.525572</td>\n",
       "      <td>-0.334545</td>\n",
       "      <td>0.621603</td>\n",
       "      <td>-0.552435</td>\n",
       "      <td>0.475733</td>\n",
       "      <td>3</td>\n",
       "      <td>9</td>\n",
       "      <td>4</td>\n",
       "    </tr>\n",
       "    <tr>\n",
       "      <th>1</th>\n",
       "      <td>0.405454</td>\n",
       "      <td>-0.334545</td>\n",
       "      <td>0.129273</td>\n",
       "      <td>0.633184</td>\n",
       "      <td>0.265577</td>\n",
       "      <td>3</td>\n",
       "      <td>7</td>\n",
       "      <td>16</td>\n",
       "    </tr>\n",
       "    <tr>\n",
       "      <th>2</th>\n",
       "      <td>0.765806</td>\n",
       "      <td>-0.033204</td>\n",
       "      <td>0.621603</td>\n",
       "      <td>0.633184</td>\n",
       "      <td>1.460949</td>\n",
       "      <td>1</td>\n",
       "      <td>7</td>\n",
       "      <td>22</td>\n",
       "    </tr>\n",
       "    <tr>\n",
       "      <th>3</th>\n",
       "      <td>0.141197</td>\n",
       "      <td>-0.296877</td>\n",
       "      <td>0.129273</td>\n",
       "      <td>0.717872</td>\n",
       "      <td>-0.145511</td>\n",
       "      <td>6</td>\n",
       "      <td>5</td>\n",
       "      <td>15</td>\n",
       "    </tr>\n",
       "    <tr>\n",
       "      <th>4</th>\n",
       "      <td>0.285337</td>\n",
       "      <td>-0.146207</td>\n",
       "      <td>0.621603</td>\n",
       "      <td>-0.044312</td>\n",
       "      <td>0.341017</td>\n",
       "      <td>9</td>\n",
       "      <td>6</td>\n",
       "      <td>31</td>\n",
       "    </tr>\n",
       "    <tr>\n",
       "      <th>...</th>\n",
       "      <td>...</td>\n",
       "      <td>...</td>\n",
       "      <td>...</td>\n",
       "      <td>...</td>\n",
       "      <td>...</td>\n",
       "      <td>...</td>\n",
       "      <td>...</td>\n",
       "      <td>...</td>\n",
       "    </tr>\n",
       "    <tr>\n",
       "      <th>38472</th>\n",
       "      <td>-0.387319</td>\n",
       "      <td>0.418806</td>\n",
       "      <td>0.621603</td>\n",
       "      <td>-0.467748</td>\n",
       "      <td>-0.080682</td>\n",
       "      <td>8</td>\n",
       "      <td>1</td>\n",
       "      <td>28</td>\n",
       "    </tr>\n",
       "    <tr>\n",
       "      <th>38473</th>\n",
       "      <td>0.597642</td>\n",
       "      <td>-1.163231</td>\n",
       "      <td>-1.347720</td>\n",
       "      <td>-0.721809</td>\n",
       "      <td>-0.446155</td>\n",
       "      <td>1</td>\n",
       "      <td>4</td>\n",
       "      <td>22</td>\n",
       "    </tr>\n",
       "    <tr>\n",
       "      <th>38474</th>\n",
       "      <td>-0.963881</td>\n",
       "      <td>1.096822</td>\n",
       "      <td>1.113934</td>\n",
       "      <td>0.548497</td>\n",
       "      <td>-0.213581</td>\n",
       "      <td>3</td>\n",
       "      <td>4</td>\n",
       "      <td>20</td>\n",
       "    </tr>\n",
       "    <tr>\n",
       "      <th>38475</th>\n",
       "      <td>0.597642</td>\n",
       "      <td>-1.539906</td>\n",
       "      <td>-1.840051</td>\n",
       "      <td>0.125062</td>\n",
       "      <td>-0.789959</td>\n",
       "      <td>8</td>\n",
       "      <td>9</td>\n",
       "      <td>3</td>\n",
       "    </tr>\n",
       "    <tr>\n",
       "      <th>38476</th>\n",
       "      <td>-0.963881</td>\n",
       "      <td>0.833149</td>\n",
       "      <td>0.129273</td>\n",
       "      <td>-0.467748</td>\n",
       "      <td>-0.777125</td>\n",
       "      <td>1</td>\n",
       "      <td>9</td>\n",
       "      <td>20</td>\n",
       "    </tr>\n",
       "  </tbody>\n",
       "</table>\n",
       "<p>38477 rows × 8 columns</p>\n",
       "</div>"
      ],
      "text/plain": [
       "       current_score  balls_left  wickets_left  last_five       crr  \\\n",
       "0           0.525572   -0.334545      0.621603  -0.552435  0.475733   \n",
       "1           0.405454   -0.334545      0.129273   0.633184  0.265577   \n",
       "2           0.765806   -0.033204      0.621603   0.633184  1.460949   \n",
       "3           0.141197   -0.296877      0.129273   0.717872 -0.145511   \n",
       "4           0.285337   -0.146207      0.621603  -0.044312  0.341017   \n",
       "...              ...         ...           ...        ...       ...   \n",
       "38472      -0.387319    0.418806      0.621603  -0.467748 -0.080682   \n",
       "38473       0.597642   -1.163231     -1.347720  -0.721809 -0.446155   \n",
       "38474      -0.963881    1.096822      1.113934   0.548497 -0.213581   \n",
       "38475       0.597642   -1.539906     -1.840051   0.125062 -0.789959   \n",
       "38476      -0.963881    0.833149      0.129273  -0.467748 -0.777125   \n",
       "\n",
       "       batting_team  bowling_team  city  \n",
       "0                 3             9     4  \n",
       "1                 3             7    16  \n",
       "2                 1             7    22  \n",
       "3                 6             5    15  \n",
       "4                 9             6    31  \n",
       "...             ...           ...   ...  \n",
       "38472             8             1    28  \n",
       "38473             1             4    22  \n",
       "38474             3             4    20  \n",
       "38475             8             9     3  \n",
       "38476             1             9    20  \n",
       "\n",
       "[38477 rows x 8 columns]"
      ]
     },
     "execution_count": 221,
     "metadata": {},
     "output_type": "execute_result"
    }
   ],
   "source": [
    "X"
   ]
  },
  {
   "cell_type": "code",
   "execution_count": 225,
   "id": "08618625",
   "metadata": {},
   "outputs": [],
   "source": [
    "xtrain,xtest,ytrain,ytest = train_test_split(X,y,test_size=0.2,random_state=1)"
   ]
  },
  {
   "cell_type": "code",
   "execution_count": 241,
   "id": "8d49315f",
   "metadata": {},
   "outputs": [],
   "source": [
    "from sklearn.ensemble import RandomForestRegressor"
   ]
  },
  {
   "cell_type": "code",
   "execution_count": 247,
   "id": "1e18037a",
   "metadata": {},
   "outputs": [
    {
     "name": "stdout",
     "output_type": "stream",
     "text": [
      "Collecting xgboost\n",
      "  Downloading xgboost-2.1.2-py3-none-win_amd64.whl.metadata (2.1 kB)\n",
      "Requirement already satisfied: numpy in c:\\users\\hp\\anaconda3\\lib\\site-packages (from xgboost) (1.26.4)\n",
      "Requirement already satisfied: scipy in c:\\users\\hp\\anaconda3\\lib\\site-packages (from xgboost) (1.11.4)\n",
      "Downloading xgboost-2.1.2-py3-none-win_amd64.whl (124.9 MB)\n",
      "   ---------------------------------------- 0.0/124.9 MB ? eta -:--:--\n",
      "   ---------------------------------------- 0.2/124.9 MB 5.9 MB/s eta 0:00:21\n",
      "   ---------------------------------------- 0.4/124.9 MB 5.6 MB/s eta 0:00:23\n",
      "   ---------------------------------------- 0.6/124.9 MB 4.5 MB/s eta 0:00:28\n",
      "   ---------------------------------------- 0.9/124.9 MB 4.8 MB/s eta 0:00:26\n",
      "   ---------------------------------------- 1.2/124.9 MB 5.3 MB/s eta 0:00:24\n",
      "   ---------------------------------------- 1.5/124.9 MB 5.6 MB/s eta 0:00:23\n",
      "   ---------------------------------------- 1.5/124.9 MB 5.6 MB/s eta 0:00:23\n",
      "    --------------------------------------- 2.0/124.9 MB 5.7 MB/s eta 0:00:22\n",
      "    --------------------------------------- 2.1/124.9 MB 5.7 MB/s eta 0:00:22\n",
      "    --------------------------------------- 2.1/124.9 MB 5.7 MB/s eta 0:00:22\n",
      "    --------------------------------------- 2.1/124.9 MB 5.7 MB/s eta 0:00:22\n",
      "    --------------------------------------- 2.1/124.9 MB 5.7 MB/s eta 0:00:22\n",
      "    --------------------------------------- 2.1/124.9 MB 5.7 MB/s eta 0:00:22\n",
      "    --------------------------------------- 2.1/124.9 MB 5.7 MB/s eta 0:00:22\n",
      "    --------------------------------------- 2.4/124.9 MB 3.8 MB/s eta 0:00:33\n",
      "    --------------------------------------- 2.6/124.9 MB 3.7 MB/s eta 0:00:34\n",
      "    --------------------------------------- 2.8/124.9 MB 3.7 MB/s eta 0:00:34\n",
      "    --------------------------------------- 3.0/124.9 MB 3.8 MB/s eta 0:00:32\n",
      "   - -------------------------------------- 3.1/124.9 MB 3.6 MB/s eta 0:00:34\n",
      "   - -------------------------------------- 3.3/124.9 MB 3.6 MB/s eta 0:00:34\n",
      "   - -------------------------------------- 3.6/124.9 MB 3.8 MB/s eta 0:00:33\n",
      "   - -------------------------------------- 3.7/124.9 MB 3.7 MB/s eta 0:00:33\n",
      "   - -------------------------------------- 4.1/124.9 MB 3.9 MB/s eta 0:00:31\n",
      "   - -------------------------------------- 4.2/124.9 MB 3.9 MB/s eta 0:00:32\n",
      "   - -------------------------------------- 4.4/124.9 MB 3.9 MB/s eta 0:00:32\n",
      "   - -------------------------------------- 4.6/124.9 MB 3.9 MB/s eta 0:00:31\n",
      "   - -------------------------------------- 4.9/124.9 MB 3.9 MB/s eta 0:00:31\n",
      "   - -------------------------------------- 5.2/124.9 MB 4.0 MB/s eta 0:00:31\n",
      "   - -------------------------------------- 5.3/124.9 MB 4.0 MB/s eta 0:00:31\n",
      "   - -------------------------------------- 5.6/124.9 MB 4.1 MB/s eta 0:00:30\n",
      "   - -------------------------------------- 6.0/124.9 MB 4.2 MB/s eta 0:00:29\n",
      "   - -------------------------------------- 6.2/124.9 MB 4.2 MB/s eta 0:00:29\n",
      "   -- ------------------------------------- 6.4/124.9 MB 4.3 MB/s eta 0:00:28\n",
      "   -- ------------------------------------- 6.8/124.9 MB 4.3 MB/s eta 0:00:28\n",
      "   -- ------------------------------------- 7.1/124.9 MB 4.3 MB/s eta 0:00:28\n",
      "   -- ------------------------------------- 7.3/124.9 MB 4.4 MB/s eta 0:00:27\n",
      "   -- ------------------------------------- 7.4/124.9 MB 4.3 MB/s eta 0:00:28\n",
      "   -- ------------------------------------- 7.6/124.9 MB 4.4 MB/s eta 0:00:27\n",
      "   -- ------------------------------------- 7.8/124.9 MB 4.4 MB/s eta 0:00:27\n",
      "   -- ------------------------------------- 8.0/124.9 MB 4.4 MB/s eta 0:00:27\n",
      "   -- ------------------------------------- 8.3/124.9 MB 4.5 MB/s eta 0:00:27\n",
      "   -- ------------------------------------- 8.5/124.9 MB 4.4 MB/s eta 0:00:27\n",
      "   -- ------------------------------------- 8.6/124.9 MB 4.4 MB/s eta 0:00:27\n",
      "   -- ------------------------------------- 8.9/124.9 MB 4.4 MB/s eta 0:00:27\n",
      "   -- ------------------------------------- 9.1/124.9 MB 4.4 MB/s eta 0:00:27\n",
      "   --- ------------------------------------ 9.4/124.9 MB 4.5 MB/s eta 0:00:26\n",
      "   --- ------------------------------------ 9.7/124.9 MB 4.5 MB/s eta 0:00:26\n",
      "   --- ------------------------------------ 10.0/124.9 MB 4.6 MB/s eta 0:00:26\n",
      "   --- ------------------------------------ 10.4/124.9 MB 4.6 MB/s eta 0:00:25\n",
      "   --- ------------------------------------ 10.7/124.9 MB 4.7 MB/s eta 0:00:25\n",
      "   --- ------------------------------------ 11.2/124.9 MB 4.8 MB/s eta 0:00:24\n",
      "   --- ------------------------------------ 11.4/124.9 MB 4.7 MB/s eta 0:00:25\n",
      "   --- ------------------------------------ 11.7/124.9 MB 4.7 MB/s eta 0:00:25\n",
      "   --- ------------------------------------ 12.0/124.9 MB 4.7 MB/s eta 0:00:24\n",
      "   --- ------------------------------------ 12.2/124.9 MB 4.7 MB/s eta 0:00:25\n",
      "   --- ------------------------------------ 12.4/124.9 MB 5.3 MB/s eta 0:00:22\n",
      "   ---- ----------------------------------- 12.5/124.9 MB 5.2 MB/s eta 0:00:22\n",
      "   ---- ----------------------------------- 12.7/124.9 MB 5.0 MB/s eta 0:00:23\n",
      "   ---- ----------------------------------- 12.8/124.9 MB 5.1 MB/s eta 0:00:23\n",
      "   ---- ----------------------------------- 13.0/124.9 MB 5.1 MB/s eta 0:00:23\n",
      "   ---- ----------------------------------- 13.3/124.9 MB 5.2 MB/s eta 0:00:22\n",
      "   ---- ----------------------------------- 13.5/124.9 MB 5.2 MB/s eta 0:00:22\n",
      "   ---- ----------------------------------- 13.8/124.9 MB 5.2 MB/s eta 0:00:22\n",
      "   ---- ----------------------------------- 14.0/124.9 MB 5.3 MB/s eta 0:00:22\n",
      "   ---- ----------------------------------- 14.2/124.9 MB 5.2 MB/s eta 0:00:22\n",
      "   ---- ----------------------------------- 14.3/124.9 MB 5.2 MB/s eta 0:00:22\n",
      "   ---- ----------------------------------- 14.5/124.9 MB 5.2 MB/s eta 0:00:22\n",
      "   ---- ----------------------------------- 14.6/124.9 MB 5.0 MB/s eta 0:00:22\n",
      "   ---- ----------------------------------- 14.9/124.9 MB 5.1 MB/s eta 0:00:22\n",
      "   ---- ----------------------------------- 15.0/124.9 MB 5.1 MB/s eta 0:00:22\n",
      "   ---- ----------------------------------- 15.3/124.9 MB 5.1 MB/s eta 0:00:22\n",
      "   ---- ----------------------------------- 15.6/124.9 MB 5.1 MB/s eta 0:00:22\n",
      "   ----- ---------------------------------- 15.8/124.9 MB 5.1 MB/s eta 0:00:22\n",
      "   ----- ---------------------------------- 16.0/124.9 MB 5.1 MB/s eta 0:00:22\n",
      "   ----- ---------------------------------- 16.3/124.9 MB 5.0 MB/s eta 0:00:22\n",
      "   ----- ---------------------------------- 16.6/124.9 MB 5.1 MB/s eta 0:00:22\n",
      "   ----- ---------------------------------- 16.9/124.9 MB 5.1 MB/s eta 0:00:22\n",
      "   ----- ---------------------------------- 17.1/124.9 MB 5.0 MB/s eta 0:00:22\n",
      "   ----- ---------------------------------- 17.4/124.9 MB 5.0 MB/s eta 0:00:22\n",
      "   ----- ---------------------------------- 17.7/124.9 MB 5.1 MB/s eta 0:00:22\n",
      "   ----- ---------------------------------- 17.9/124.9 MB 5.1 MB/s eta 0:00:21\n",
      "   ----- ---------------------------------- 18.0/124.9 MB 5.1 MB/s eta 0:00:22\n",
      "   ----- ---------------------------------- 18.4/124.9 MB 5.1 MB/s eta 0:00:21\n",
      "   ------ --------------------------------- 18.8/124.9 MB 5.3 MB/s eta 0:00:21\n",
      "   ------ --------------------------------- 19.1/124.9 MB 5.3 MB/s eta 0:00:20\n",
      "   ------ --------------------------------- 19.5/124.9 MB 5.4 MB/s eta 0:00:20\n",
      "   ------ --------------------------------- 19.8/124.9 MB 5.3 MB/s eta 0:00:20\n",
      "   ------ --------------------------------- 20.0/124.9 MB 5.3 MB/s eta 0:00:20\n",
      "   ------ --------------------------------- 20.3/124.9 MB 5.3 MB/s eta 0:00:20\n",
      "   ------ --------------------------------- 20.7/124.9 MB 5.3 MB/s eta 0:00:20\n",
      "   ------ --------------------------------- 20.7/124.9 MB 5.3 MB/s eta 0:00:20\n",
      "   ------ --------------------------------- 20.7/124.9 MB 5.3 MB/s eta 0:00:20\n",
      "   ------ --------------------------------- 20.7/124.9 MB 5.3 MB/s eta 0:00:20\n",
      "   ------ --------------------------------- 20.7/124.9 MB 5.3 MB/s eta 0:00:20\n",
      "   ------ --------------------------------- 20.7/124.9 MB 5.3 MB/s eta 0:00:20\n",
      "   ------ --------------------------------- 20.9/124.9 MB 4.7 MB/s eta 0:00:23\n",
      "   ------ --------------------------------- 21.0/124.9 MB 4.6 MB/s eta 0:00:23\n",
      "   ------ --------------------------------- 21.4/124.9 MB 4.6 MB/s eta 0:00:23\n",
      "   ------ --------------------------------- 21.7/124.9 MB 4.6 MB/s eta 0:00:23\n",
      "   ------- -------------------------------- 22.2/124.9 MB 4.6 MB/s eta 0:00:23\n",
      "   ------- -------------------------------- 22.5/124.9 MB 4.7 MB/s eta 0:00:22\n",
      "   ------- -------------------------------- 22.8/124.9 MB 4.9 MB/s eta 0:00:21\n",
      "   ------- -------------------------------- 22.9/124.9 MB 4.9 MB/s eta 0:00:21\n",
      "   ------- -------------------------------- 23.5/124.9 MB 5.0 MB/s eta 0:00:21\n",
      "   ------- -------------------------------- 23.7/124.9 MB 5.0 MB/s eta 0:00:21\n",
      "   ------- -------------------------------- 24.0/124.9 MB 5.0 MB/s eta 0:00:21\n",
      "   ------- -------------------------------- 24.3/124.9 MB 5.1 MB/s eta 0:00:20\n",
      "   ------- -------------------------------- 24.5/124.9 MB 5.1 MB/s eta 0:00:20\n",
      "   ------- -------------------------------- 24.8/124.9 MB 5.3 MB/s eta 0:00:19\n",
      "   ------- -------------------------------- 24.9/124.9 MB 5.2 MB/s eta 0:00:20\n",
      "   -------- ------------------------------- 25.2/124.9 MB 5.2 MB/s eta 0:00:20\n",
      "   -------- ------------------------------- 25.3/124.9 MB 5.2 MB/s eta 0:00:20\n",
      "   -------- ------------------------------- 25.5/124.9 MB 5.1 MB/s eta 0:00:20\n",
      "   -------- ------------------------------- 25.7/124.9 MB 5.1 MB/s eta 0:00:20\n",
      "   -------- ------------------------------- 25.9/124.9 MB 5.1 MB/s eta 0:00:20\n",
      "   -------- ------------------------------- 26.1/124.9 MB 5.1 MB/s eta 0:00:20\n",
      "   -------- ------------------------------- 26.5/124.9 MB 5.1 MB/s eta 0:00:20\n",
      "   -------- ------------------------------- 26.6/124.9 MB 5.1 MB/s eta 0:00:20\n",
      "   -------- ------------------------------- 26.8/124.9 MB 5.0 MB/s eta 0:00:20\n",
      "   -------- ------------------------------- 27.0/124.9 MB 5.0 MB/s eta 0:00:20\n",
      "   -------- ------------------------------- 27.1/124.9 MB 5.0 MB/s eta 0:00:20\n",
      "   -------- ------------------------------- 27.3/124.9 MB 4.9 MB/s eta 0:00:20\n",
      "   -------- ------------------------------- 27.5/124.9 MB 4.9 MB/s eta 0:00:21\n",
      "   -------- ------------------------------- 27.6/124.9 MB 4.9 MB/s eta 0:00:20\n",
      "   -------- ------------------------------- 27.7/124.9 MB 4.7 MB/s eta 0:00:21\n",
      "   -------- ------------------------------- 27.9/124.9 MB 4.7 MB/s eta 0:00:21\n",
      "   -------- ------------------------------- 28.1/124.9 MB 4.7 MB/s eta 0:00:21\n",
      "   --------- ------------------------------ 28.2/124.9 MB 4.6 MB/s eta 0:00:21\n",
      "   --------- ------------------------------ 28.4/124.9 MB 4.6 MB/s eta 0:00:21\n",
      "   --------- ------------------------------ 28.5/124.9 MB 4.5 MB/s eta 0:00:22\n",
      "   --------- ------------------------------ 28.7/124.9 MB 4.5 MB/s eta 0:00:22\n",
      "   --------- ------------------------------ 28.9/124.9 MB 4.5 MB/s eta 0:00:22\n",
      "   --------- ------------------------------ 29.1/124.9 MB 4.5 MB/s eta 0:00:22\n",
      "   --------- ------------------------------ 29.3/124.9 MB 4.4 MB/s eta 0:00:22\n",
      "   --------- ------------------------------ 29.5/124.9 MB 4.4 MB/s eta 0:00:22\n",
      "   --------- ------------------------------ 29.6/124.9 MB 4.3 MB/s eta 0:00:23\n",
      "   --------- ------------------------------ 29.7/124.9 MB 4.3 MB/s eta 0:00:23\n",
      "   --------- ------------------------------ 29.8/124.9 MB 4.2 MB/s eta 0:00:23\n",
      "   --------- ------------------------------ 30.2/124.9 MB 4.2 MB/s eta 0:00:23\n",
      "   --------- ------------------------------ 30.4/124.9 MB 4.2 MB/s eta 0:00:23\n",
      "   --------- ------------------------------ 30.6/124.9 MB 4.2 MB/s eta 0:00:23\n",
      "   --------- ------------------------------ 30.9/124.9 MB 4.6 MB/s eta 0:00:21\n",
      "   --------- ------------------------------ 31.1/124.9 MB 4.5 MB/s eta 0:00:21\n",
      "   ---------- ----------------------------- 31.5/124.9 MB 4.7 MB/s eta 0:00:20\n",
      "   ---------- ----------------------------- 31.7/124.9 MB 4.7 MB/s eta 0:00:20\n",
      "   ---------- ----------------------------- 32.0/124.9 MB 4.6 MB/s eta 0:00:21\n",
      "   ---------- ----------------------------- 32.2/124.9 MB 4.5 MB/s eta 0:00:21\n",
      "   ---------- ----------------------------- 32.6/124.9 MB 4.6 MB/s eta 0:00:21\n",
      "   ---------- ----------------------------- 32.8/124.9 MB 4.5 MB/s eta 0:00:21\n",
      "   ---------- ----------------------------- 32.9/124.9 MB 4.5 MB/s eta 0:00:21\n",
      "   ---------- ----------------------------- 33.3/124.9 MB 4.5 MB/s eta 0:00:21\n",
      "   ---------- ----------------------------- 33.6/124.9 MB 4.5 MB/s eta 0:00:21\n",
      "   ---------- ----------------------------- 33.8/124.9 MB 4.5 MB/s eta 0:00:21\n",
      "   ---------- ----------------------------- 34.3/124.9 MB 4.5 MB/s eta 0:00:20\n",
      "   ----------- ---------------------------- 34.6/124.9 MB 4.6 MB/s eta 0:00:20\n",
      "   ----------- ---------------------------- 34.7/124.9 MB 4.6 MB/s eta 0:00:20\n",
      "   ----------- ---------------------------- 35.2/124.9 MB 4.6 MB/s eta 0:00:20\n",
      "   ----------- ---------------------------- 35.6/124.9 MB 4.7 MB/s eta 0:00:19\n",
      "   ----------- ---------------------------- 35.8/124.9 MB 4.8 MB/s eta 0:00:19\n",
      "   ----------- ---------------------------- 36.2/124.9 MB 4.8 MB/s eta 0:00:19\n",
      "   ----------- ---------------------------- 36.5/124.9 MB 4.9 MB/s eta 0:00:19\n",
      "   ----------- ---------------------------- 36.7/124.9 MB 4.8 MB/s eta 0:00:19\n",
      "   ----------- ---------------------------- 36.9/124.9 MB 4.9 MB/s eta 0:00:18\n",
      "   ----------- ---------------------------- 37.3/124.9 MB 4.9 MB/s eta 0:00:18\n",
      "   ------------ --------------------------- 37.6/124.9 MB 5.0 MB/s eta 0:00:18\n",
      "   ------------ --------------------------- 37.8/124.9 MB 5.1 MB/s eta 0:00:18\n",
      "   ------------ --------------------------- 37.9/124.9 MB 5.2 MB/s eta 0:00:17\n",
      "   ------------ --------------------------- 38.3/124.9 MB 5.2 MB/s eta 0:00:17\n",
      "   ------------ --------------------------- 38.4/124.9 MB 5.3 MB/s eta 0:00:17\n",
      "   ------------ --------------------------- 38.6/124.9 MB 5.2 MB/s eta 0:00:17\n",
      "   ------------ --------------------------- 38.9/124.9 MB 5.4 MB/s eta 0:00:17\n",
      "   ------------ --------------------------- 39.1/124.9 MB 5.4 MB/s eta 0:00:16\n",
      "   ------------ --------------------------- 39.3/124.9 MB 5.4 MB/s eta 0:00:16\n",
      "   ------------ --------------------------- 39.5/124.9 MB 5.4 MB/s eta 0:00:16\n",
      "   ------------ --------------------------- 39.6/124.9 MB 5.4 MB/s eta 0:00:16\n",
      "   ------------ --------------------------- 39.8/124.9 MB 5.4 MB/s eta 0:00:16\n",
      "   ------------ --------------------------- 40.0/124.9 MB 5.5 MB/s eta 0:00:16\n",
      "   ------------ --------------------------- 40.2/124.9 MB 5.4 MB/s eta 0:00:16\n",
      "   ------------ --------------------------- 40.4/124.9 MB 5.3 MB/s eta 0:00:16\n",
      "   ------------- -------------------------- 40.6/124.9 MB 5.4 MB/s eta 0:00:16\n",
      "   ------------- -------------------------- 40.8/124.9 MB 5.4 MB/s eta 0:00:16\n",
      "   ------------- -------------------------- 41.0/124.9 MB 5.4 MB/s eta 0:00:16\n",
      "   ------------- -------------------------- 41.3/124.9 MB 5.4 MB/s eta 0:00:16\n",
      "   ------------- -------------------------- 41.5/124.9 MB 5.4 MB/s eta 0:00:16\n",
      "   ------------- -------------------------- 41.6/124.9 MB 5.3 MB/s eta 0:00:16\n",
      "   ------------- -------------------------- 41.9/124.9 MB 5.2 MB/s eta 0:00:16\n",
      "   ------------- -------------------------- 42.2/124.9 MB 5.2 MB/s eta 0:00:16\n",
      "   ------------- -------------------------- 42.5/124.9 MB 5.3 MB/s eta 0:00:16\n",
      "   ------------- -------------------------- 42.6/124.9 MB 5.2 MB/s eta 0:00:16\n",
      "   ------------- -------------------------- 42.7/124.9 MB 5.1 MB/s eta 0:00:17\n",
      "   ------------- -------------------------- 43.0/124.9 MB 5.2 MB/s eta 0:00:16\n",
      "   ------------- -------------------------- 43.2/124.9 MB 5.2 MB/s eta 0:00:16\n",
      "   ------------- -------------------------- 43.4/124.9 MB 5.1 MB/s eta 0:00:17\n",
      "   ------------- -------------------------- 43.6/124.9 MB 5.1 MB/s eta 0:00:17\n",
      "   -------------- ------------------------- 43.9/124.9 MB 5.1 MB/s eta 0:00:16\n",
      "   -------------- ------------------------- 44.3/124.9 MB 5.1 MB/s eta 0:00:16\n",
      "   -------------- ------------------------- 44.6/124.9 MB 5.1 MB/s eta 0:00:16\n",
      "   -------------- ------------------------- 44.8/124.9 MB 5.0 MB/s eta 0:00:16\n",
      "   -------------- ------------------------- 45.2/124.9 MB 5.1 MB/s eta 0:00:16\n",
      "   -------------- ------------------------- 45.5/124.9 MB 5.0 MB/s eta 0:00:16\n",
      "   -------------- ------------------------- 45.8/124.9 MB 5.0 MB/s eta 0:00:16\n",
      "   -------------- ------------------------- 46.2/124.9 MB 5.1 MB/s eta 0:00:16\n",
      "   -------------- ------------------------- 46.4/124.9 MB 5.0 MB/s eta 0:00:16\n",
      "   -------------- ------------------------- 46.8/124.9 MB 5.0 MB/s eta 0:00:16\n",
      "   --------------- ------------------------ 47.0/124.9 MB 5.0 MB/s eta 0:00:16\n",
      "   --------------- ------------------------ 47.4/124.9 MB 5.0 MB/s eta 0:00:16\n",
      "   --------------- ------------------------ 47.7/124.9 MB 5.0 MB/s eta 0:00:16\n",
      "   --------------- ------------------------ 47.9/124.9 MB 5.1 MB/s eta 0:00:16\n",
      "   --------------- ------------------------ 48.3/124.9 MB 5.2 MB/s eta 0:00:15\n",
      "   --------------- ------------------------ 48.5/124.9 MB 5.1 MB/s eta 0:00:15\n",
      "   --------------- ------------------------ 48.7/124.9 MB 5.2 MB/s eta 0:00:15\n",
      "   --------------- ------------------------ 48.9/124.9 MB 5.2 MB/s eta 0:00:15\n",
      "   --------------- ------------------------ 48.9/124.9 MB 5.2 MB/s eta 0:00:15\n",
      "   --------------- ------------------------ 49.3/124.9 MB 5.1 MB/s eta 0:00:15\n",
      "   --------------- ------------------------ 49.5/124.9 MB 5.1 MB/s eta 0:00:15\n",
      "   --------------- ------------------------ 49.8/124.9 MB 5.2 MB/s eta 0:00:15\n",
      "   --------------- ------------------------ 49.9/124.9 MB 5.3 MB/s eta 0:00:15\n",
      "   ---------------- ----------------------- 50.1/124.9 MB 5.2 MB/s eta 0:00:15\n",
      "   ---------------- ----------------------- 50.4/124.9 MB 5.3 MB/s eta 0:00:15\n",
      "   ---------------- ----------------------- 50.6/124.9 MB 5.3 MB/s eta 0:00:15\n",
      "   ---------------- ----------------------- 50.8/124.9 MB 5.2 MB/s eta 0:00:15\n",
      "   ---------------- ----------------------- 50.9/124.9 MB 5.2 MB/s eta 0:00:15\n",
      "   ---------------- ----------------------- 51.0/124.9 MB 5.1 MB/s eta 0:00:15\n",
      "   ---------------- ----------------------- 51.2/124.9 MB 5.1 MB/s eta 0:00:15\n",
      "   ---------------- ----------------------- 51.3/124.9 MB 5.0 MB/s eta 0:00:15\n",
      "   ---------------- ----------------------- 51.4/124.9 MB 5.0 MB/s eta 0:00:15\n",
      "   ---------------- ----------------------- 51.6/124.9 MB 4.9 MB/s eta 0:00:15\n",
      "   ---------------- ----------------------- 51.7/124.9 MB 4.8 MB/s eta 0:00:16\n",
      "   ---------------- ----------------------- 51.8/124.9 MB 4.9 MB/s eta 0:00:16\n",
      "   ---------------- ----------------------- 52.0/124.9 MB 4.8 MB/s eta 0:00:16\n",
      "   ---------------- ----------------------- 52.2/124.9 MB 4.8 MB/s eta 0:00:16\n",
      "   ---------------- ----------------------- 52.3/124.9 MB 4.7 MB/s eta 0:00:16\n",
      "   ---------------- ----------------------- 52.3/124.9 MB 4.7 MB/s eta 0:00:16\n",
      "   ---------------- ----------------------- 52.6/124.9 MB 4.6 MB/s eta 0:00:16\n",
      "   ---------------- ----------------------- 52.7/124.9 MB 4.6 MB/s eta 0:00:16\n",
      "   ---------------- ----------------------- 52.8/124.9 MB 4.5 MB/s eta 0:00:16\n",
      "   ---------------- ----------------------- 52.9/124.9 MB 4.6 MB/s eta 0:00:16\n",
      "   ---------------- ----------------------- 53.1/124.9 MB 4.6 MB/s eta 0:00:16\n",
      "   ----------------- ---------------------- 53.1/124.9 MB 4.5 MB/s eta 0:00:16\n",
      "   ----------------- ---------------------- 53.2/124.9 MB 4.4 MB/s eta 0:00:17\n",
      "   ----------------- ---------------------- 53.3/124.9 MB 4.4 MB/s eta 0:00:17\n",
      "   ----------------- ---------------------- 53.4/124.9 MB 4.4 MB/s eta 0:00:17\n",
      "   ----------------- ---------------------- 53.5/124.9 MB 4.3 MB/s eta 0:00:17\n",
      "   ----------------- ---------------------- 53.6/124.9 MB 4.2 MB/s eta 0:00:17\n",
      "   ----------------- ---------------------- 53.7/124.9 MB 4.2 MB/s eta 0:00:18\n",
      "   ----------------- ---------------------- 53.8/124.9 MB 4.1 MB/s eta 0:00:18\n",
      "   ----------------- ---------------------- 53.9/124.9 MB 4.1 MB/s eta 0:00:18\n",
      "   ----------------- ---------------------- 53.9/124.9 MB 4.0 MB/s eta 0:00:18\n",
      "   ----------------- ---------------------- 53.9/124.9 MB 4.0 MB/s eta 0:00:18\n",
      "   ----------------- ---------------------- 54.0/124.9 MB 3.9 MB/s eta 0:00:19\n",
      "   ----------------- ---------------------- 54.0/124.9 MB 3.8 MB/s eta 0:00:19\n",
      "   ----------------- ---------------------- 54.1/124.9 MB 3.7 MB/s eta 0:00:19\n",
      "   ----------------- ---------------------- 54.2/124.9 MB 3.7 MB/s eta 0:00:19\n",
      "   ----------------- ---------------------- 54.3/124.9 MB 3.7 MB/s eta 0:00:19\n",
      "   ----------------- ---------------------- 54.5/124.9 MB 3.7 MB/s eta 0:00:20\n",
      "   ----------------- ---------------------- 54.7/124.9 MB 3.6 MB/s eta 0:00:20\n",
      "   ----------------- ---------------------- 54.9/124.9 MB 3.6 MB/s eta 0:00:20\n",
      "   ----------------- ---------------------- 55.2/124.9 MB 3.6 MB/s eta 0:00:20\n",
      "   ----------------- ---------------------- 55.5/124.9 MB 3.6 MB/s eta 0:00:20\n",
      "   ----------------- ---------------------- 55.8/124.9 MB 3.6 MB/s eta 0:00:20\n",
      "   ----------------- ---------------------- 56.0/124.9 MB 3.6 MB/s eta 0:00:20\n",
      "   ------------------ --------------------- 56.3/124.9 MB 3.6 MB/s eta 0:00:20\n",
      "   ------------------ --------------------- 56.6/124.9 MB 3.6 MB/s eta 0:00:20\n",
      "   ------------------ --------------------- 56.9/124.9 MB 3.6 MB/s eta 0:00:19\n",
      "   ------------------ --------------------- 57.2/124.9 MB 3.6 MB/s eta 0:00:20\n",
      "   ------------------ --------------------- 57.5/124.9 MB 3.6 MB/s eta 0:00:19\n",
      "   ------------------ --------------------- 57.6/124.9 MB 3.5 MB/s eta 0:00:20\n",
      "   ------------------ --------------------- 58.0/124.9 MB 3.6 MB/s eta 0:00:19\n",
      "   ------------------ --------------------- 58.4/124.9 MB 3.6 MB/s eta 0:00:19\n",
      "   ------------------ --------------------- 58.6/124.9 MB 3.6 MB/s eta 0:00:19\n",
      "   ------------------ --------------------- 58.8/124.9 MB 3.6 MB/s eta 0:00:19\n",
      "   ------------------ --------------------- 59.2/124.9 MB 3.7 MB/s eta 0:00:18\n",
      "   ------------------- -------------------- 59.5/124.9 MB 3.6 MB/s eta 0:00:18\n",
      "   ------------------- -------------------- 59.9/124.9 MB 3.7 MB/s eta 0:00:18\n",
      "   ------------------- -------------------- 60.3/124.9 MB 3.8 MB/s eta 0:00:18\n",
      "   ------------------- -------------------- 60.5/124.9 MB 3.7 MB/s eta 0:00:18\n",
      "   ------------------- -------------------- 60.8/124.9 MB 3.7 MB/s eta 0:00:18\n",
      "   ------------------- -------------------- 61.0/124.9 MB 3.8 MB/s eta 0:00:17\n",
      "   ------------------- -------------------- 61.3/124.9 MB 3.9 MB/s eta 0:00:17\n",
      "   ------------------- -------------------- 61.5/124.9 MB 3.9 MB/s eta 0:00:17\n",
      "   ------------------- -------------------- 61.8/124.9 MB 4.0 MB/s eta 0:00:16\n",
      "   ------------------- -------------------- 61.9/124.9 MB 4.1 MB/s eta 0:00:16\n",
      "   ------------------- -------------------- 62.1/124.9 MB 4.0 MB/s eta 0:00:16\n",
      "   ------------------- -------------------- 62.4/124.9 MB 4.0 MB/s eta 0:00:16\n",
      "   -------------------- ------------------- 62.6/124.9 MB 4.1 MB/s eta 0:00:16\n",
      "   -------------------- ------------------- 62.8/124.9 MB 4.2 MB/s eta 0:00:15\n",
      "   -------------------- ------------------- 63.0/124.9 MB 4.2 MB/s eta 0:00:15\n",
      "   -------------------- ------------------- 63.3/124.9 MB 4.4 MB/s eta 0:00:15\n",
      "   -------------------- ------------------- 63.5/124.9 MB 4.4 MB/s eta 0:00:14\n",
      "   -------------------- ------------------- 63.7/124.9 MB 4.5 MB/s eta 0:00:14\n",
      "   -------------------- ------------------- 64.0/124.9 MB 4.7 MB/s eta 0:00:13\n",
      "   -------------------- ------------------- 64.2/124.9 MB 5.2 MB/s eta 0:00:12\n",
      "   -------------------- ------------------- 64.3/124.9 MB 5.3 MB/s eta 0:00:12\n",
      "   -------------------- ------------------- 64.7/124.9 MB 5.5 MB/s eta 0:00:11\n",
      "   -------------------- ------------------- 65.0/124.9 MB 5.5 MB/s eta 0:00:11\n",
      "   -------------------- ------------------- 65.3/124.9 MB 5.6 MB/s eta 0:00:11\n",
      "   -------------------- ------------------- 65.5/124.9 MB 5.7 MB/s eta 0:00:11\n",
      "   --------------------- ------------------ 65.9/124.9 MB 5.6 MB/s eta 0:00:11\n",
      "   --------------------- ------------------ 66.1/124.9 MB 5.6 MB/s eta 0:00:11\n",
      "   --------------------- ------------------ 66.4/124.9 MB 5.6 MB/s eta 0:00:11\n",
      "   --------------------- ------------------ 66.8/124.9 MB 5.6 MB/s eta 0:00:11\n",
      "   --------------------- ------------------ 66.9/124.9 MB 5.6 MB/s eta 0:00:11\n",
      "   --------------------- ------------------ 67.3/124.9 MB 5.6 MB/s eta 0:00:11\n",
      "   --------------------- ------------------ 67.6/124.9 MB 5.6 MB/s eta 0:00:11\n",
      "   --------------------- ------------------ 67.8/124.9 MB 5.7 MB/s eta 0:00:11\n",
      "   --------------------- ------------------ 67.9/124.9 MB 5.5 MB/s eta 0:00:11\n",
      "   --------------------- ------------------ 68.1/124.9 MB 5.5 MB/s eta 0:00:11\n",
      "   --------------------- ------------------ 68.4/124.9 MB 5.4 MB/s eta 0:00:11\n",
      "   ---------------------- ----------------- 68.8/124.9 MB 5.5 MB/s eta 0:00:11\n",
      "   ---------------------- ----------------- 69.0/124.9 MB 5.5 MB/s eta 0:00:11\n",
      "   ---------------------- ----------------- 69.1/124.9 MB 5.4 MB/s eta 0:00:11\n",
      "   ---------------------- ----------------- 69.5/124.9 MB 5.4 MB/s eta 0:00:11\n",
      "   ---------------------- ----------------- 69.7/124.9 MB 5.4 MB/s eta 0:00:11\n",
      "   ---------------------- ----------------- 70.0/124.9 MB 5.4 MB/s eta 0:00:11\n",
      "   ---------------------- ----------------- 70.2/124.9 MB 5.3 MB/s eta 0:00:11\n",
      "   ---------------------- ----------------- 70.4/124.9 MB 5.2 MB/s eta 0:00:11\n",
      "   ---------------------- ----------------- 70.6/124.9 MB 5.2 MB/s eta 0:00:11\n",
      "   ---------------------- ----------------- 70.9/124.9 MB 5.2 MB/s eta 0:00:11\n",
      "   ---------------------- ----------------- 71.2/124.9 MB 5.2 MB/s eta 0:00:11\n",
      "   ---------------------- ----------------- 71.4/124.9 MB 5.2 MB/s eta 0:00:11\n",
      "   ---------------------- ----------------- 71.5/124.9 MB 5.1 MB/s eta 0:00:11\n",
      "   ---------------------- ----------------- 71.7/124.9 MB 5.2 MB/s eta 0:00:11\n",
      "   ----------------------- ---------------- 71.9/124.9 MB 5.0 MB/s eta 0:00:11\n",
      "   ----------------------- ---------------- 72.1/124.9 MB 5.1 MB/s eta 0:00:11\n",
      "   ----------------------- ---------------- 72.1/124.9 MB 5.1 MB/s eta 0:00:11\n",
      "   ----------------------- ---------------- 72.5/124.9 MB 5.1 MB/s eta 0:00:11\n",
      "   ----------------------- ---------------- 72.7/124.9 MB 5.1 MB/s eta 0:00:11\n",
      "   ----------------------- ---------------- 72.9/124.9 MB 5.0 MB/s eta 0:00:11\n",
      "   ----------------------- ---------------- 73.1/124.9 MB 5.0 MB/s eta 0:00:11\n",
      "   ----------------------- ---------------- 73.2/124.9 MB 5.0 MB/s eta 0:00:11\n",
      "   ----------------------- ---------------- 73.3/124.9 MB 4.9 MB/s eta 0:00:11\n",
      "   ----------------------- ---------------- 73.5/124.9 MB 4.9 MB/s eta 0:00:11\n",
      "   ----------------------- ---------------- 73.6/124.9 MB 4.9 MB/s eta 0:00:11\n",
      "   ----------------------- ---------------- 73.9/124.9 MB 4.9 MB/s eta 0:00:11\n",
      "   ----------------------- ---------------- 74.2/124.9 MB 4.9 MB/s eta 0:00:11\n",
      "   ----------------------- ---------------- 74.3/124.9 MB 4.9 MB/s eta 0:00:11\n",
      "   ----------------------- ---------------- 74.7/124.9 MB 4.9 MB/s eta 0:00:11\n",
      "   ----------------------- ---------------- 74.8/124.9 MB 4.8 MB/s eta 0:00:11\n",
      "   ------------------------ --------------- 75.0/124.9 MB 4.9 MB/s eta 0:00:11\n",
      "   ------------------------ --------------- 75.3/124.9 MB 4.8 MB/s eta 0:00:11\n",
      "   ------------------------ --------------- 75.4/124.9 MB 4.8 MB/s eta 0:00:11\n",
      "   ------------------------ --------------- 75.5/124.9 MB 4.7 MB/s eta 0:00:11\n",
      "   ------------------------ --------------- 75.7/124.9 MB 4.6 MB/s eta 0:00:11\n",
      "   ------------------------ --------------- 75.9/124.9 MB 4.6 MB/s eta 0:00:11\n",
      "   ------------------------ --------------- 76.0/124.9 MB 4.6 MB/s eta 0:00:11\n",
      "   ------------------------ --------------- 76.1/124.9 MB 4.5 MB/s eta 0:00:11\n",
      "   ------------------------ --------------- 76.4/124.9 MB 4.5 MB/s eta 0:00:11\n",
      "   ------------------------ --------------- 76.5/124.9 MB 4.5 MB/s eta 0:00:11\n",
      "   ------------------------ --------------- 76.7/124.9 MB 4.4 MB/s eta 0:00:11\n",
      "   ------------------------ --------------- 76.9/124.9 MB 4.4 MB/s eta 0:00:11\n",
      "   ------------------------ --------------- 77.0/124.9 MB 4.3 MB/s eta 0:00:12\n",
      "   ------------------------ --------------- 77.2/124.9 MB 4.3 MB/s eta 0:00:11\n",
      "   ------------------------ --------------- 77.3/124.9 MB 4.3 MB/s eta 0:00:12\n",
      "   ------------------------ --------------- 77.5/124.9 MB 4.2 MB/s eta 0:00:12\n",
      "   ------------------------ --------------- 77.6/124.9 MB 4.2 MB/s eta 0:00:12\n",
      "   ------------------------ --------------- 77.8/124.9 MB 4.1 MB/s eta 0:00:12\n",
      "   ------------------------ --------------- 78.1/124.9 MB 4.1 MB/s eta 0:00:12\n",
      "   ------------------------- -------------- 78.2/124.9 MB 4.2 MB/s eta 0:00:12\n",
      "   ------------------------- -------------- 78.4/124.9 MB 4.2 MB/s eta 0:00:12\n",
      "   ------------------------- -------------- 78.5/124.9 MB 4.1 MB/s eta 0:00:12\n",
      "   ------------------------- -------------- 78.8/124.9 MB 4.1 MB/s eta 0:00:12\n",
      "   ------------------------- -------------- 79.1/124.9 MB 4.1 MB/s eta 0:00:12\n",
      "   ------------------------- -------------- 79.2/124.9 MB 4.1 MB/s eta 0:00:12\n",
      "   ------------------------- -------------- 79.5/124.9 MB 4.1 MB/s eta 0:00:11\n",
      "   ------------------------- -------------- 79.9/124.9 MB 4.1 MB/s eta 0:00:12\n",
      "   ------------------------- -------------- 80.1/124.9 MB 4.1 MB/s eta 0:00:11\n",
      "   ------------------------- -------------- 80.3/124.9 MB 4.1 MB/s eta 0:00:11\n",
      "   ------------------------- -------------- 80.9/124.9 MB 4.3 MB/s eta 0:00:11\n",
      "   -------------------------- ------------- 81.2/124.9 MB 4.3 MB/s eta 0:00:11\n",
      "   -------------------------- ------------- 81.4/124.9 MB 4.3 MB/s eta 0:00:11\n",
      "   -------------------------- ------------- 81.8/124.9 MB 4.4 MB/s eta 0:00:10\n",
      "   -------------------------- ------------- 82.1/124.9 MB 4.4 MB/s eta 0:00:10\n",
      "   -------------------------- ------------- 82.3/124.9 MB 4.5 MB/s eta 0:00:10\n",
      "   -------------------------- ------------- 82.7/124.9 MB 4.5 MB/s eta 0:00:10\n",
      "   -------------------------- ------------- 82.9/124.9 MB 4.5 MB/s eta 0:00:10\n",
      "   -------------------------- ------------- 83.3/124.9 MB 4.6 MB/s eta 0:00:10\n",
      "   -------------------------- ------------- 83.5/124.9 MB 4.7 MB/s eta 0:00:09\n",
      "   -------------------------- ------------- 83.8/124.9 MB 4.8 MB/s eta 0:00:09\n",
      "   -------------------------- ------------- 84.0/124.9 MB 4.8 MB/s eta 0:00:09\n",
      "   --------------------------- ------------ 84.4/124.9 MB 4.8 MB/s eta 0:00:09\n",
      "   --------------------------- ------------ 84.7/124.9 MB 4.8 MB/s eta 0:00:09\n",
      "   --------------------------- ------------ 84.9/124.9 MB 4.8 MB/s eta 0:00:09\n",
      "   --------------------------- ------------ 85.2/124.9 MB 4.8 MB/s eta 0:00:09\n",
      "   --------------------------- ------------ 85.3/124.9 MB 4.9 MB/s eta 0:00:09\n",
      "   --------------------------- ------------ 85.7/124.9 MB 5.0 MB/s eta 0:00:08\n",
      "   --------------------------- ------------ 85.8/124.9 MB 5.0 MB/s eta 0:00:08\n",
      "   --------------------------- ------------ 86.1/124.9 MB 5.0 MB/s eta 0:00:08\n",
      "   --------------------------- ------------ 86.4/124.9 MB 5.2 MB/s eta 0:00:08\n",
      "   --------------------------- ------------ 86.7/124.9 MB 5.3 MB/s eta 0:00:08\n",
      "   --------------------------- ------------ 86.9/124.9 MB 5.3 MB/s eta 0:00:08\n",
      "   --------------------------- ------------ 87.3/124.9 MB 5.5 MB/s eta 0:00:07\n",
      "   ---------------------------- ----------- 87.5/124.9 MB 5.5 MB/s eta 0:00:07\n",
      "   ---------------------------- ----------- 87.8/124.9 MB 5.7 MB/s eta 0:00:07\n",
      "   ---------------------------- ----------- 88.1/124.9 MB 5.7 MB/s eta 0:00:07\n",
      "   ---------------------------- ----------- 88.3/124.9 MB 5.7 MB/s eta 0:00:07\n",
      "   ---------------------------- ----------- 88.5/124.9 MB 5.7 MB/s eta 0:00:07\n",
      "   ---------------------------- ----------- 88.8/124.9 MB 6.0 MB/s eta 0:00:07\n",
      "   ---------------------------- ----------- 89.0/124.9 MB 5.8 MB/s eta 0:00:07\n",
      "   ---------------------------- ----------- 89.0/124.9 MB 5.7 MB/s eta 0:00:07\n",
      "   ---------------------------- ----------- 89.3/124.9 MB 5.7 MB/s eta 0:00:07\n",
      "   ---------------------------- ----------- 89.5/124.9 MB 5.7 MB/s eta 0:00:07\n",
      "   ---------------------------- ----------- 89.7/124.9 MB 5.6 MB/s eta 0:00:07\n",
      "   ---------------------------- ----------- 90.0/124.9 MB 5.6 MB/s eta 0:00:07\n",
      "   ---------------------------- ----------- 90.2/124.9 MB 5.6 MB/s eta 0:00:07\n",
      "   ---------------------------- ----------- 90.5/124.9 MB 5.6 MB/s eta 0:00:07\n",
      "   ----------------------------- ---------- 90.8/124.9 MB 5.6 MB/s eta 0:00:07\n",
      "   ----------------------------- ---------- 91.1/124.9 MB 5.6 MB/s eta 0:00:07\n",
      "   ----------------------------- ---------- 91.5/124.9 MB 5.5 MB/s eta 0:00:07\n",
      "   ----------------------------- ---------- 91.7/124.9 MB 5.6 MB/s eta 0:00:06\n",
      "   ----------------------------- ---------- 91.9/124.9 MB 5.6 MB/s eta 0:00:06\n",
      "   ----------------------------- ---------- 92.3/124.9 MB 5.5 MB/s eta 0:00:06\n",
      "   ----------------------------- ---------- 92.6/124.9 MB 5.6 MB/s eta 0:00:06\n",
      "   ----------------------------- ---------- 93.0/124.9 MB 5.6 MB/s eta 0:00:06\n",
      "   ----------------------------- ---------- 93.3/124.9 MB 5.6 MB/s eta 0:00:06\n",
      "   ----------------------------- ---------- 93.5/124.9 MB 5.5 MB/s eta 0:00:06\n",
      "   ----------------------------- ---------- 93.6/124.9 MB 5.6 MB/s eta 0:00:06\n",
      "   ------------------------------ --------- 94.1/124.9 MB 5.6 MB/s eta 0:00:06\n",
      "   ------------------------------ --------- 94.3/124.9 MB 5.5 MB/s eta 0:00:06\n",
      "   ------------------------------ --------- 94.6/124.9 MB 5.5 MB/s eta 0:00:06\n",
      "   ------------------------------ --------- 94.9/124.9 MB 5.5 MB/s eta 0:00:06\n",
      "   ------------------------------ --------- 95.1/124.9 MB 5.6 MB/s eta 0:00:06\n",
      "   ------------------------------ --------- 95.3/124.9 MB 5.6 MB/s eta 0:00:06\n",
      "   ------------------------------ --------- 95.7/124.9 MB 5.6 MB/s eta 0:00:06\n",
      "   ------------------------------ --------- 96.0/124.9 MB 5.6 MB/s eta 0:00:06\n",
      "   ------------------------------ --------- 96.1/124.9 MB 5.6 MB/s eta 0:00:06\n",
      "   ------------------------------ --------- 96.3/124.9 MB 5.5 MB/s eta 0:00:06\n",
      "   ------------------------------ --------- 96.6/124.9 MB 5.5 MB/s eta 0:00:06\n",
      "   ------------------------------- -------- 96.8/124.9 MB 5.5 MB/s eta 0:00:06\n",
      "   ------------------------------- -------- 97.1/124.9 MB 5.5 MB/s eta 0:00:06\n",
      "   ------------------------------- -------- 97.1/124.9 MB 5.5 MB/s eta 0:00:06\n",
      "   ------------------------------- -------- 97.5/124.9 MB 5.4 MB/s eta 0:00:06\n",
      "   ------------------------------- -------- 97.6/124.9 MB 5.3 MB/s eta 0:00:06\n",
      "   ------------------------------- -------- 97.8/124.9 MB 5.3 MB/s eta 0:00:06\n",
      "   ------------------------------- -------- 97.9/124.9 MB 5.2 MB/s eta 0:00:06\n",
      "   ------------------------------- -------- 98.1/124.9 MB 5.2 MB/s eta 0:00:06\n",
      "   ------------------------------- -------- 98.2/124.9 MB 5.1 MB/s eta 0:00:06\n",
      "   ------------------------------- -------- 98.4/124.9 MB 5.1 MB/s eta 0:00:06\n",
      "   ------------------------------- -------- 98.4/124.9 MB 5.0 MB/s eta 0:00:06\n",
      "   ------------------------------- -------- 98.7/124.9 MB 5.0 MB/s eta 0:00:06\n",
      "   ------------------------------- -------- 98.8/124.9 MB 4.9 MB/s eta 0:00:06\n",
      "   ------------------------------- -------- 99.0/124.9 MB 4.9 MB/s eta 0:00:06\n",
      "   ------------------------------- -------- 99.1/124.9 MB 4.8 MB/s eta 0:00:06\n",
      "   ------------------------------- -------- 99.2/124.9 MB 4.8 MB/s eta 0:00:06\n",
      "   ------------------------------- -------- 99.4/124.9 MB 4.9 MB/s eta 0:00:06\n",
      "   ------------------------------- -------- 99.5/124.9 MB 4.8 MB/s eta 0:00:06\n",
      "   ------------------------------- -------- 99.7/124.9 MB 4.7 MB/s eta 0:00:06\n",
      "   ------------------------------- -------- 99.8/124.9 MB 4.7 MB/s eta 0:00:06\n",
      "   ------------------------------- -------- 99.9/124.9 MB 4.6 MB/s eta 0:00:06\n",
      "   -------------------------------- ------- 100.0/124.9 MB 4.7 MB/s eta 0:00:06\n",
      "   -------------------------------- ------- 100.2/124.9 MB 4.6 MB/s eta 0:00:06\n",
      "   -------------------------------- ------- 100.3/124.9 MB 4.5 MB/s eta 0:00:06\n",
      "   -------------------------------- ------- 100.4/124.9 MB 4.5 MB/s eta 0:00:06\n",
      "   -------------------------------- ------- 100.5/124.9 MB 4.4 MB/s eta 0:00:06\n",
      "   -------------------------------- ------- 100.6/124.9 MB 4.4 MB/s eta 0:00:06\n",
      "   -------------------------------- ------- 100.7/124.9 MB 4.3 MB/s eta 0:00:06\n",
      "   -------------------------------- ------- 100.9/124.9 MB 4.3 MB/s eta 0:00:06\n",
      "   -------------------------------- ------- 101.0/124.9 MB 4.2 MB/s eta 0:00:06\n",
      "   -------------------------------- ------- 101.1/124.9 MB 4.2 MB/s eta 0:00:06\n",
      "   -------------------------------- ------- 101.2/124.9 MB 4.1 MB/s eta 0:00:06\n",
      "   -------------------------------- ------- 101.4/124.9 MB 4.1 MB/s eta 0:00:06\n",
      "   -------------------------------- ------- 101.6/124.9 MB 4.1 MB/s eta 0:00:06\n",
      "   -------------------------------- ------- 101.7/124.9 MB 4.0 MB/s eta 0:00:06\n",
      "   -------------------------------- ------- 101.9/124.9 MB 4.0 MB/s eta 0:00:06\n",
      "   -------------------------------- ------- 102.0/124.9 MB 3.9 MB/s eta 0:00:06\n",
      "   -------------------------------- ------- 102.2/124.9 MB 3.9 MB/s eta 0:00:06\n",
      "   -------------------------------- ------- 102.4/124.9 MB 3.9 MB/s eta 0:00:06\n",
      "   -------------------------------- ------- 102.4/124.9 MB 3.9 MB/s eta 0:00:06\n",
      "   -------------------------------- ------- 102.5/124.9 MB 3.8 MB/s eta 0:00:06\n",
      "   -------------------------------- ------- 102.5/124.9 MB 3.7 MB/s eta 0:00:07\n",
      "   -------------------------------- ------- 102.5/124.9 MB 3.7 MB/s eta 0:00:07\n",
      "   -------------------------------- ------- 102.7/124.9 MB 3.6 MB/s eta 0:00:07\n",
      "   -------------------------------- ------- 102.8/124.9 MB 3.5 MB/s eta 0:00:07\n",
      "   -------------------------------- ------- 103.0/124.9 MB 3.6 MB/s eta 0:00:07\n",
      "   --------------------------------- ------ 103.2/124.9 MB 3.5 MB/s eta 0:00:07\n",
      "   --------------------------------- ------ 103.4/124.9 MB 3.5 MB/s eta 0:00:07\n",
      "   --------------------------------- ------ 103.6/124.9 MB 3.5 MB/s eta 0:00:07\n",
      "   --------------------------------- ------ 103.8/124.9 MB 3.5 MB/s eta 0:00:07\n",
      "   --------------------------------- ------ 104.0/124.9 MB 3.6 MB/s eta 0:00:06\n",
      "   --------------------------------- ------ 104.2/124.9 MB 3.5 MB/s eta 0:00:06\n",
      "   --------------------------------- ------ 104.5/124.9 MB 3.5 MB/s eta 0:00:06\n",
      "   --------------------------------- ------ 104.8/124.9 MB 3.5 MB/s eta 0:00:06\n",
      "   --------------------------------- ------ 104.8/124.9 MB 3.5 MB/s eta 0:00:06\n",
      "   --------------------------------- ------ 105.2/124.9 MB 3.4 MB/s eta 0:00:06\n",
      "   --------------------------------- ------ 105.5/124.9 MB 3.4 MB/s eta 0:00:06\n",
      "   --------------------------------- ------ 105.8/124.9 MB 3.5 MB/s eta 0:00:06\n",
      "   --------------------------------- ------ 106.0/124.9 MB 3.5 MB/s eta 0:00:06\n",
      "   ---------------------------------- ----- 106.3/124.9 MB 3.4 MB/s eta 0:00:06\n",
      "   ---------------------------------- ----- 106.5/124.9 MB 3.5 MB/s eta 0:00:06\n",
      "   ---------------------------------- ----- 107.0/124.9 MB 3.5 MB/s eta 0:00:06\n",
      "   ---------------------------------- ----- 107.3/124.9 MB 3.6 MB/s eta 0:00:05\n",
      "   ---------------------------------- ----- 107.6/124.9 MB 3.6 MB/s eta 0:00:05\n",
      "   ---------------------------------- ----- 107.6/124.9 MB 3.6 MB/s eta 0:00:05\n",
      "   ---------------------------------- ----- 108.1/124.9 MB 3.6 MB/s eta 0:00:05\n",
      "   ---------------------------------- ----- 108.3/124.9 MB 3.6 MB/s eta 0:00:05\n",
      "   ---------------------------------- ----- 108.6/124.9 MB 3.7 MB/s eta 0:00:05\n",
      "   ---------------------------------- ----- 109.0/124.9 MB 3.9 MB/s eta 0:00:05\n",
      "   ---------------------------------- ----- 109.2/124.9 MB 3.9 MB/s eta 0:00:04\n",
      "   ----------------------------------- ---- 109.6/124.9 MB 4.0 MB/s eta 0:00:04\n",
      "   ----------------------------------- ---- 109.9/124.9 MB 4.1 MB/s eta 0:00:04\n",
      "   ----------------------------------- ---- 110.2/124.9 MB 4.2 MB/s eta 0:00:04\n",
      "   ----------------------------------- ---- 110.2/124.9 MB 4.2 MB/s eta 0:00:04\n",
      "   ----------------------------------- ---- 110.2/124.9 MB 4.2 MB/s eta 0:00:04\n",
      "   ----------------------------------- ---- 110.9/124.9 MB 4.5 MB/s eta 0:00:04\n",
      "   ----------------------------------- ---- 111.1/124.9 MB 4.5 MB/s eta 0:00:04\n",
      "   ----------------------------------- ---- 111.3/124.9 MB 4.5 MB/s eta 0:00:04\n",
      "   ----------------------------------- ---- 111.4/124.9 MB 4.5 MB/s eta 0:00:03\n",
      "   ----------------------------------- ---- 111.6/124.9 MB 4.6 MB/s eta 0:00:03\n",
      "   ----------------------------------- ---- 111.9/124.9 MB 4.7 MB/s eta 0:00:03\n",
      "   ----------------------------------- ---- 112.1/124.9 MB 4.8 MB/s eta 0:00:03\n",
      "   ------------------------------------ --- 112.4/124.9 MB 4.8 MB/s eta 0:00:03\n",
      "   ------------------------------------ --- 112.8/124.9 MB 5.4 MB/s eta 0:00:03\n",
      "   ------------------------------------ --- 113.1/124.9 MB 5.5 MB/s eta 0:00:03\n",
      "   ------------------------------------ --- 113.5/124.9 MB 5.6 MB/s eta 0:00:03\n",
      "   ------------------------------------ --- 113.8/124.9 MB 5.6 MB/s eta 0:00:02\n",
      "   ------------------------------------ --- 114.1/124.9 MB 5.8 MB/s eta 0:00:02\n",
      "   ------------------------------------ --- 114.5/124.9 MB 5.9 MB/s eta 0:00:02\n",
      "   ------------------------------------ --- 114.8/124.9 MB 5.9 MB/s eta 0:00:02\n",
      "   ------------------------------------ --- 115.0/124.9 MB 5.8 MB/s eta 0:00:02\n",
      "   ------------------------------------ --- 115.4/124.9 MB 5.9 MB/s eta 0:00:02\n",
      "   ------------------------------------- -- 115.6/124.9 MB 6.0 MB/s eta 0:00:02\n",
      "   ------------------------------------- -- 115.9/124.9 MB 5.9 MB/s eta 0:00:02\n",
      "   ------------------------------------- -- 116.1/124.9 MB 5.9 MB/s eta 0:00:02\n",
      "   ------------------------------------- -- 116.3/124.9 MB 5.9 MB/s eta 0:00:02\n",
      "   ------------------------------------- -- 116.5/124.9 MB 5.8 MB/s eta 0:00:02\n",
      "   ------------------------------------- -- 116.6/124.9 MB 5.7 MB/s eta 0:00:02\n",
      "   ------------------------------------- -- 116.8/124.9 MB 5.7 MB/s eta 0:00:02\n",
      "   ------------------------------------- -- 117.0/124.9 MB 5.6 MB/s eta 0:00:02\n",
      "   ------------------------------------- -- 117.2/124.9 MB 5.5 MB/s eta 0:00:02\n",
      "   ------------------------------------- -- 117.3/124.9 MB 5.5 MB/s eta 0:00:02\n",
      "   ------------------------------------- -- 117.3/124.9 MB 5.5 MB/s eta 0:00:02\n",
      "   ------------------------------------- -- 117.7/124.9 MB 5.3 MB/s eta 0:00:02\n",
      "   ------------------------------------- -- 117.9/124.9 MB 5.4 MB/s eta 0:00:02\n",
      "   ------------------------------------- -- 118.1/124.9 MB 5.3 MB/s eta 0:00:02\n",
      "   ------------------------------------- -- 118.3/124.9 MB 5.3 MB/s eta 0:00:02\n",
      "   ------------------------------------- -- 118.4/124.9 MB 5.3 MB/s eta 0:00:02\n",
      "   -------------------------------------- - 118.9/124.9 MB 5.3 MB/s eta 0:00:02\n",
      "   -------------------------------------- - 119.1/124.9 MB 5.2 MB/s eta 0:00:02\n",
      "   -------------------------------------- - 119.4/124.9 MB 5.2 MB/s eta 0:00:02\n",
      "   -------------------------------------- - 119.5/124.9 MB 5.2 MB/s eta 0:00:02\n",
      "   -------------------------------------- - 119.7/124.9 MB 5.0 MB/s eta 0:00:02\n",
      "   -------------------------------------- - 120.0/124.9 MB 5.1 MB/s eta 0:00:01\n",
      "   -------------------------------------- - 120.2/124.9 MB 5.1 MB/s eta 0:00:01\n",
      "   -------------------------------------- - 120.4/124.9 MB 5.0 MB/s eta 0:00:01\n",
      "   -------------------------------------- - 120.6/124.9 MB 5.2 MB/s eta 0:00:01\n",
      "   -------------------------------------- - 120.8/124.9 MB 5.1 MB/s eta 0:00:01\n",
      "   -------------------------------------- - 120.9/124.9 MB 5.0 MB/s eta 0:00:01\n",
      "   -------------------------------------- - 121.1/124.9 MB 4.9 MB/s eta 0:00:01\n",
      "   -------------------------------------- - 121.2/124.9 MB 4.8 MB/s eta 0:00:01\n",
      "   -------------------------------------- - 121.4/124.9 MB 4.9 MB/s eta 0:00:01\n",
      "   -------------------------------------- - 121.6/124.9 MB 4.9 MB/s eta 0:00:01\n",
      "   -------------------------------------- - 121.8/124.9 MB 4.9 MB/s eta 0:00:01\n",
      "   ---------------------------------------  121.9/124.9 MB 4.8 MB/s eta 0:00:01\n",
      "   ---------------------------------------  122.1/124.9 MB 4.7 MB/s eta 0:00:01\n",
      "   ---------------------------------------  122.2/124.9 MB 4.7 MB/s eta 0:00:01\n",
      "   ---------------------------------------  122.4/124.9 MB 4.7 MB/s eta 0:00:01\n",
      "   ---------------------------------------  122.5/124.9 MB 4.7 MB/s eta 0:00:01\n",
      "   ---------------------------------------  122.8/124.9 MB 4.6 MB/s eta 0:00:01\n",
      "   ---------------------------------------  123.1/124.9 MB 4.6 MB/s eta 0:00:01\n",
      "   ---------------------------------------  123.2/124.9 MB 4.5 MB/s eta 0:00:01\n",
      "   ---------------------------------------  123.4/124.9 MB 4.5 MB/s eta 0:00:01\n",
      "   ---------------------------------------  123.7/124.9 MB 4.5 MB/s eta 0:00:01\n",
      "   ---------------------------------------  124.0/124.9 MB 4.5 MB/s eta 0:00:01\n",
      "   ---------------------------------------  124.2/124.9 MB 4.5 MB/s eta 0:00:01\n",
      "   ---------------------------------------  124.4/124.9 MB 4.4 MB/s eta 0:00:01\n",
      "   ---------------------------------------  124.8/124.9 MB 4.4 MB/s eta 0:00:01\n",
      "   ---------------------------------------  124.9/124.9 MB 4.4 MB/s eta 0:00:01\n",
      "   ---------------------------------------  124.9/124.9 MB 4.4 MB/s eta 0:00:01\n",
      "   ---------------------------------------  124.9/124.9 MB 4.4 MB/s eta 0:00:01\n",
      "   ---------------------------------------  124.9/124.9 MB 4.4 MB/s eta 0:00:01\n",
      "   ---------------------------------------  124.9/124.9 MB 4.4 MB/s eta 0:00:01\n",
      "   ---------------------------------------  124.9/124.9 MB 4.4 MB/s eta 0:00:01\n",
      "   ---------------------------------------- 124.9/124.9 MB 3.9 MB/s eta 0:00:00\n",
      "Installing collected packages: xgboost\n",
      "Successfully installed xgboost-2.1.2\n",
      "Note: you may need to restart the kernel to use updated packages.\n"
     ]
    }
   ],
   "source": [
    "pip install xgboost"
   ]
  },
  {
   "cell_type": "code",
   "execution_count": 248,
   "id": "56796b92",
   "metadata": {},
   "outputs": [],
   "source": [
    "from xgboost import XGBRegressor"
   ]
  },
  {
   "cell_type": "code",
   "execution_count": 250,
   "id": "2b39b965",
   "metadata": {},
   "outputs": [],
   "source": [
    "xg = XGBRegressor(n_estimators=1000,learning_rate=0.2,max_depth=12,random_state=1)"
   ]
  },
  {
   "cell_type": "code",
   "execution_count": 251,
   "id": "04f72461",
   "metadata": {},
   "outputs": [],
   "source": [
    "model = xg.fit(xtrain,ytrain)"
   ]
  },
  {
   "cell_type": "code",
   "execution_count": 252,
   "id": "ea36de8c",
   "metadata": {},
   "outputs": [],
   "source": [
    "tr_pred = model.predict(xtrain)\n",
    "ts_pred = model.predict(xtest)"
   ]
  },
  {
   "cell_type": "code",
   "execution_count": 253,
   "id": "4ba02a84",
   "metadata": {},
   "outputs": [],
   "source": [
    "from sklearn.metrics import mean_absolute_error, r2_score"
   ]
  },
  {
   "cell_type": "code",
   "execution_count": 254,
   "id": "c4f02b5d",
   "metadata": {},
   "outputs": [
    {
     "name": "stdout",
     "output_type": "stream",
     "text": [
      "0.007402839114112094\n",
      "2.082348104821917\n"
     ]
    }
   ],
   "source": [
    "tr_err = mean_absolute_error(ytrain,tr_pred)\n",
    "ts_err = mean_absolute_error(ytest,ts_pred)\n",
    "\n",
    "print(tr_err)\n",
    "print(ts_err)"
   ]
  },
  {
   "cell_type": "code",
   "execution_count": 255,
   "id": "5d9a7dca",
   "metadata": {},
   "outputs": [
    {
     "name": "stdout",
     "output_type": "stream",
     "text": [
      "0.9998957729728652\n",
      "0.9748803516588855\n"
     ]
    }
   ],
   "source": [
    "tr_scr = r2_score(ytrain,tr_pred)\n",
    "ts_scr = r2_score(ytest,ts_pred)\n",
    "\n",
    "print(tr_scr)\n",
    "print(ts_scr)"
   ]
  },
  {
   "cell_type": "code",
   "execution_count": 256,
   "id": "57d038d3",
   "metadata": {},
   "outputs": [],
   "source": [
    "pickle.dump(model,open('model.pkl','wb'))"
   ]
  },
  {
   "cell_type": "code",
   "execution_count": null,
   "id": "686f0642",
   "metadata": {},
   "outputs": [],
   "source": []
  }
 ],
 "metadata": {
  "kernelspec": {
   "display_name": "Python 3 (ipykernel)",
   "language": "python",
   "name": "python3"
  },
  "language_info": {
   "codemirror_mode": {
    "name": "ipython",
    "version": 3
   },
   "file_extension": ".py",
   "mimetype": "text/x-python",
   "name": "python",
   "nbconvert_exporter": "python",
   "pygments_lexer": "ipython3",
   "version": "3.11.7"
  }
 },
 "nbformat": 4,
 "nbformat_minor": 5
}
